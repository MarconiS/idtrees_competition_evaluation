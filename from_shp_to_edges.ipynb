{
 "cells": [
  {
   "cell_type": "code",
   "execution_count": 59,
   "metadata": {},
   "outputs": [],
   "source": [
    "import geopandas\n",
    "import rasterio\n",
    "import glob"
   ]
  },
  {
   "cell_type": "code",
   "execution_count": 74,
   "metadata": {},
   "outputs": [],
   "source": [
    "# this will go in a loop for each site and each test plot. Now hardcoding\n",
    "site = \"OSBS\"\n",
    "plot_n = '24'\n",
    "detection_path = './submission/'+site+'_submission.csv'\n",
    "ras_path = './RS/'+site+'_'+plot_n+'.tif'\n",
    "raster = rasterio.open(ras_path)\n",
    "\n",
    "#if using RGB, we have 10 pixels per meter: if we are evaluating on RGB, we probably need to take into account if using w/l\n",
    "pix_per_meter = 10\n",
    "#automatically load only boxes within plots boundaries\n",
    "gdf = geopandas.read_file(\n",
    "    detection_path,\n",
    "    bbox=raster.bounds,\n",
    ")\n",
    "gtf = geopandas.read_file(\n",
    "    './submission/'+site+'_ground.csv',\n",
    "    bbox=raster.bounds,\n",
    ")"
   ]
  },
  {
   "cell_type": "code",
   "execution_count": 75,
   "metadata": {},
   "outputs": [],
   "source": [
    "# turn WTK into coordinates within in the image\n",
    "gdf_limits = gdf.bounds\n",
    "gtf_limits = gtf.bounds\n",
    "\n",
    "xmin = raster.bounds[0]\n",
    "ymin = raster.bounds[1]\n",
    "#xmax = raster.bounds[2]\n",
    "#ymax = raster.bounds[3]"
   ]
  },
  {
   "cell_type": "code",
   "execution_count": 76,
   "metadata": {},
   "outputs": [],
   "source": [
    "#length\n",
    "gdf_limits['maxy'] = (gdf_limits['maxy'] - gdf_limits['miny'])*pix_per_meter\n",
    "gtf_limits['maxy'] = (gtf_limits['maxy'] - gtf_limits['miny'])*pix_per_meter\n",
    "\n",
    "#width\n",
    "gdf_limits['maxx'] = (gdf_limits['maxx'] - gdf_limits['minx'])*pix_per_meter\n",
    "gtf_limits['maxx'] = (gtf_limits['maxx'] - gtf_limits['minx'])*pix_per_meter\n",
    "\n",
    "# translate coords to 0,0\n",
    "gdf_limits['minx'] = (gdf_limits['minx'] - xmin) * pix_per_meter\n",
    "gdf_limits['miny'] = (gdf_limits['miny'] - ymin) * pix_per_meter\n",
    "gdf_limits.columns = ['minx', 'miny', 'width', 'length']\n",
    "\n",
    "#same for groundtruth\n",
    "gtf_limits['minx'] = (gtf_limits['minx'] - xmin) * pix_per_meter\n",
    "gtf_limits['miny'] = (gtf_limits['miny'] - ymin) * pix_per_meter\n",
    "gtf_limits.columns = ['minx', 'miny', 'width', 'length']\n",
    "\n",
    "gdf_limits[gdf_limits < 0] = 0\n",
    "gtf_limits[gtf_limits < 0] = 0"
   ]
  },
  {
   "cell_type": "code",
   "execution_count": 77,
   "metadata": {},
   "outputs": [],
   "source": [
    "#save edges as a new csv file to be fed into the evaluation code\n",
    "gdf_limits.to_csv('./eval/'+site+'_'+plot_n+'_detections_edges.csv')\n",
    "gtf_limits.to_csv('./eval/'+site+'_'+plot_n+'_groundtruth_edges.csv')"
   ]
  },
  {
   "cell_type": "code",
   "execution_count": null,
   "metadata": {},
   "outputs": [],
   "source": []
  }
 ],
 "metadata": {
  "kernelspec": {
   "display_name": "Python 3",
   "language": "python",
   "name": "python3"
  },
  "language_info": {
   "codemirror_mode": {
    "name": "ipython",
    "version": 3
   },
   "file_extension": ".py",
   "mimetype": "text/x-python",
   "name": "python",
   "nbconvert_exporter": "python",
   "pygments_lexer": "ipython3",
   "version": "3.7.0"
  }
 },
 "nbformat": 4,
 "nbformat_minor": 4
}
